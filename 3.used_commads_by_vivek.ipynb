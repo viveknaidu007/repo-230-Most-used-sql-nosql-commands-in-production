{
 "cells": [
  {
   "cell_type": "code",
   "execution_count": null,
   "metadata": {
    "vscode": {
     "languageId": "plaintext"
    }
   },
   "outputs": [],
   "source": [
    "#renaming table name :\n",
    "\n",
    "ALTER TABLE company_media_details RENAME TO company_media_list;\n"
   ]
  },
  {
   "cell_type": "code",
   "execution_count": null,
   "metadata": {
    "vscode": {
     "languageId": "plaintext"
    }
   },
   "outputs": [],
   "source": [
    "#creating new table\n",
    "\n",
    "CREATE TABLE group_media_list (\n",
    "    group_id INTEGER,\n",
    "    media_id INTEGER,\n",
    "    PRIMARY KEY (group_id, media_id)\n",
    ");\n"
   ]
  },
  {
   "cell_type": "code",
   "execution_count": null,
   "metadata": {
    "vscode": {
     "languageId": "plaintext"
    }
   },
   "outputs": [],
   "source": [
    "# update :\n",
    "\n",
    "update license_details\n",
    "set cust_id=2 \n",
    "where license_id in (8);\n"
   ]
  },
  {
   "cell_type": "code",
   "execution_count": null,
   "metadata": {
    "vscode": {
     "languageId": "plaintext"
    }
   },
   "outputs": [],
   "source": [
    "#update :\n",
    "\n",
    "insert into cust_media_list values(1,49);\n"
   ]
  }
 ],
 "metadata": {
  "language_info": {
   "name": "python"
  }
 },
 "nbformat": 4,
 "nbformat_minor": 2
}

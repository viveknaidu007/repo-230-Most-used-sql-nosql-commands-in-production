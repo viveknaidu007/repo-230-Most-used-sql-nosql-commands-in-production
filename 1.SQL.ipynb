{
 "cells": [
  {
   "cell_type": "code",
   "execution_count": null,
   "metadata": {
    "vscode": {
     "languageId": "plaintext"
    }
   },
   "outputs": [],
   "source": [
    "#connect to the mysql workbench with uri :"
   ]
  },
  {
   "cell_type": "code",
   "execution_count": null,
   "metadata": {
    "vscode": {
     "languageId": "plaintext"
    }
   },
   "outputs": [],
   "source": [
    "#command to create the company_media_details table\n",
    "\n",
    "CREATE TABLE company_media_details (\n",
    "    comp_id INT NOT NULL,\n",
    "    media_id INT NOT NULL,\n",
    "    PRIMARY KEY (comp_id, media_id)\n",
    ");\n"
   ]
  },
  {
   "cell_type": "code",
   "execution_count": null,
   "metadata": {
    "vscode": {
     "languageId": "plaintext"
    }
   },
   "outputs": [],
   "source": [
    "#To add a customer_name column to the existing company_detailstable\n",
    "\n",
    "ALTER TABLE company_details\n",
    "ADD COLUMN customer_name VARCHAR(255);\n"
   ]
  },
  {
   "cell_type": "code",
   "execution_count": null,
   "metadata": {
    "vscode": {
     "languageId": "plaintext"
    }
   },
   "outputs": [],
   "source": [
    "#for deleting the column in table\n",
    "\n",
    "ALTER TABLE company_media_details\n",
    "DROP COLUMN media_id;\n"
   ]
  }
 ],
 "metadata": {
  "language_info": {
   "name": "python"
  }
 },
 "nbformat": 4,
 "nbformat_minor": 2
}
